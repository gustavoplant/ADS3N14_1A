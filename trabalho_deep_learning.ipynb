{
  "nbformat": 4,
  "nbformat_minor": 0,
  "metadata": {
    "colab": {
      "name": "trabalho_deep_learning",
      "provenance": [],
      "authorship_tag": "ABX9TyPxh3oNbnFVhfNNv6EcUDWA",
      "include_colab_link": true
    },
    "kernelspec": {
      "name": "python3",
      "display_name": "Python 3"
    },
    "language_info": {
      "name": "python"
    }
  },
  "cells": [
    {
      "cell_type": "markdown",
      "metadata": {
        "id": "view-in-github",
        "colab_type": "text"
      },
      "source": [
        "<a href=\"https://colab.research.google.com/github/gustavoplant/ADS3N14_1A/blob/master/trabalho_deep_learning.ipynb\" target=\"_parent\"><img src=\"https://colab.research.google.com/assets/colab-badge.svg\" alt=\"Open In Colab\"/></a>"
      ]
    },
    {
      "cell_type": "markdown",
      "metadata": {
        "id": "F6Pg6wXcD7iQ"
      },
      "source": [
        "**Importando as libs**"
      ]
    },
    {
      "cell_type": "code",
      "metadata": {
        "id": "x_8LXNIMnTvM"
      },
      "source": [
        "import tensorflow as tf\n",
        "from tensorflow.keras.models import Sequential\n",
        "from tensorflow.keras.layers import Dense, Dropout, LSTM"
      ],
      "execution_count": 9,
      "outputs": []
    },
    {
      "cell_type": "markdown",
      "metadata": {
        "id": "_TP5qt-PEY7_"
      },
      "source": [
        "**montando google drive**"
      ]
    },
    {
      "cell_type": "code",
      "metadata": {
        "colab": {
          "base_uri": "https://localhost:8080/"
        },
        "id": "hyxkAogPr1Px",
        "outputId": "ec56a83d-6e2b-4f11-82bb-97f87de2b547"
      },
      "source": [
        "from google.colab import drive\n",
        "\n",
        "try:\n",
        "  drive.mount('/content/drive')\n",
        "except: pass"
      ],
      "execution_count": 10,
      "outputs": [
        {
          "output_type": "stream",
          "text": [
            "Drive already mounted at /content/drive; to attempt to forcibly remount, call drive.mount(\"/content/drive\", force_remount=True).\n"
          ],
          "name": "stdout"
        }
      ]
    },
    {
      "cell_type": "code",
      "metadata": {
        "colab": {
          "base_uri": "https://localhost:8080/"
        },
        "id": "cLYkpPoftrfO",
        "outputId": "887cced8-e044-4b14-a7b7-a5836415ef76"
      },
      "source": [
        "!ls \"/content/drive/MyDrive/Models\""
      ],
      "execution_count": 13,
      "outputs": [
        {
          "output_type": "stream",
          "text": [
            "with_mask  without_mask\n"
          ],
          "name": "stdout"
        }
      ]
    }
  ]
}